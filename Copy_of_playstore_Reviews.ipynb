{
  "cells": [
    {
      "cell_type": "markdown",
      "metadata": {
        "id": "view-in-github",
        "colab_type": "text"
      },
      "source": [
        "<a href=\"https://colab.research.google.com/github/Shreya-data/Play-Store-App-Reviews-Analysis/blob/main/Copy_of_playstore_Reviews.ipynb\" target=\"_parent\"><img src=\"https://colab.research.google.com/assets/colab-badge.svg\" alt=\"Open In Colab\"/></a>"
      ]
    },
    {
      "cell_type": "code",
      "execution_count": null,
      "metadata": {
        "id": "meZ_5dCnzpGL"
      },
      "outputs": [],
      "source": [
        "#import required librabies\n",
        "import pandas as pd                 #data manipulation\n",
        "import numpy as np                  #data manipulation\n",
        "import matplotlib.pyplot as plt     #visualization tool\n",
        "%matplotlib inline\n",
        "import seaborn as sns               #visualisation tool\n",
        "import warnings  \n",
        "warnings.filterwarnings(\"ignore\")  #for ingoring warning\n",
        "sns.set()"
      ]
    },
    {
      "cell_type": "code",
      "execution_count": null,
      "metadata": {
        "id": "wLxa3LHsAhDl"
      },
      "outputs": [],
      "source": [
        "#mounting drive\n",
        "from google.colab import drive\n",
        "drive.mount('/content/drive')"
      ]
    },
    {
      "cell_type": "code",
      "execution_count": null,
      "metadata": {
        "id": "WaQQtPVp3DeS"
      },
      "outputs": [],
      "source": [
        "#import data from drive and introducing the variables to these dataset\n",
        "play_store_data=pd.read_csv(\"/content/drive/MyDrive/Play Store Data.csv\")\n",
        "user_review_data=pd.read_csv(\"/content/drive/MyDrive/User Reviews.csv\")\n"
      ]
    },
    {
      "cell_type": "markdown",
      "metadata": {
        "id": "Bb3rlRM33EEJ"
      },
      "source": [
        "---\n",
        "**Explore Play Store Dataset**\n",
        "---"
      ]
    },
    {
      "cell_type": "code",
      "execution_count": null,
      "metadata": {
        "id": "hjV4bpPp3EUN"
      },
      "outputs": [],
      "source": [
        "#calling the variable of play store dataset\n",
        "play_store_data.head()"
      ]
    },
    {
      "cell_type": "code",
      "execution_count": null,
      "metadata": {
        "id": "2tHxhqjR3Eac"
      },
      "outputs": [],
      "source": [
        "#column names\n",
        "play_store_data.columns.values"
      ]
    },
    {
      "cell_type": "markdown",
      "metadata": {
        "id": "_vRAgpuK3Ewd"
      },
      "source": [
        "---\n",
        "**COLUMN NAMES OF PLAY STORE DATA**\n",
        "---\n",
        "**App**- Name of the apps.\n",
        "\n",
        "**Category**- Category under which the app falls.\n",
        "\n",
        "**Rating**- Applications rating in playstore.\n",
        "\n",
        "**Reviews**- Number of reviews given to apps.\n",
        "\n",
        "**Size**- Size of the apps.\n",
        "\n",
        "**Installs**- Number of installs of the apps.\n",
        "\n",
        "**Type**- app is free or paid.\n",
        "\n",
        "**Price**- Price of the apps.\n",
        "\n",
        "**Content Rating** - Appropriate target audience of the apps.\n",
        "\n",
        "**Genres**- Genres under which the app fall.\n",
        "\n",
        "**Last** **updated**- Date when the app last updated.\n",
        "\n",
        "**Current** **Ver**- Current version of the apps.\n",
        "\n",
        "**Android** **Ver**- The Android operating system the app is compatible with."
      ]
    },
    {
      "cell_type": "code",
      "execution_count": null,
      "metadata": {
        "id": "U3p7kziA3Ed8"
      },
      "outputs": [],
      "source": [
        "#data understanding\n",
        "print(f\"There are total {play_store_data.shape[0]} rows and {play_store_data.shape[1]} columns in playstore dataframe.\")"
      ]
    },
    {
      "cell_type": "code",
      "execution_count": null,
      "metadata": {
        "id": "-_s4l2wv4GSF"
      },
      "outputs": [],
      "source": [
        "#information about data\n",
        "play_store_data.info()"
      ]
    },
    {
      "cell_type": "code",
      "execution_count": null,
      "metadata": {
        "id": "U_dbcEXB4GUe"
      },
      "outputs": [],
      "source": [
        "#statistical understanding of data\n",
        "play_store_data.describe(include=\"all\")"
      ]
    },
    {
      "cell_type": "code",
      "execution_count": null,
      "metadata": {
        "id": "wbwIEgAP4GXE"
      },
      "outputs": [],
      "source": [
        "#duplicates\n",
        "print(\"Duplicate entry in play_store_data:\",len(play_store_data[play_store_data.duplicated()])) #total number of duplicates"
      ]
    },
    {
      "cell_type": "code",
      "execution_count": null,
      "metadata": {
        "id": "eeayOzbI4Gae"
      },
      "outputs": [],
      "source": [
        "#Remove Duplicates from playstore database\n",
        "play_store_data1 = play_store_data.drop_duplicates() #remove duplicate \n",
        "play_store_data1.shape #shape after removing duplicates"
      ]
    },
    {
      "cell_type": "code",
      "execution_count": null,
      "metadata": {
        "id": "9NKAL0y_5LCM"
      },
      "outputs": [],
      "source": [
        "#making a DataFrame\n",
        "def PlaystoreInfo():\n",
        "  PSinfo_df = pd.DataFrame(index=play_store_data1.columns)\n",
        "  PSinfo_df['Datatypes'] =  play_store_data1.dtypes\n",
        "  PSinfo_df['Count of non-null values'] = play_store_data1.count()\n",
        "  PSinfo_df['NaN values'] = play_store_data1.isnull().sum()\n",
        "  PSinfo_df['% NaN Values'] = (PSinfo_df['NaN values']/len(play_store_data1)).round(4)*100 # or play_store_data1.isnull().mean()\n",
        "  PSinfo_df['Unique_count'] = play_store_data1.nunique()\n",
        "  return PSinfo_df\n",
        "PlaystoreInfo() \n"
      ]
    },
    {
      "cell_type": "markdown",
      "metadata": {
        "id": "egrLwvMX50NF"
      },
      "source": [
        "---\n",
        "**Insights:**\n",
        "---\n",
        "From the above, we understand that except Rating columns, we are having a good dataset.\n",
        "\n",
        "The number of null values are:\n",
        "\n",
        "* **Rating** has 1465 null values which contributes 14.14% of the \n",
        "data.\n",
        "\n",
        "* **Type** has 1 null value which contributes 0.01% of the data.\n",
        "\n",
        "* **Content Rating** has 1 null value which contributes 0.01% of the data.\n",
        "\n",
        "* **Current Ver** has 8 null values which contributes 0.08% of the data.\n",
        "\n",
        "* **Android Ver** has 3 null values which contributes 0.03% of the data.\n",
        "\n",
        "**We know that there is only one numeric type feature i.e. Rating.**\n",
        "\n",
        "**Unique counts of Type and Content ratings are very small i.e. 3 and 6 respectively**"
      ]
    },
    {
      "cell_type": "markdown",
      "metadata": {
        "id": "KpUrZVeq6SVf"
      },
      "source": [
        "**Lets Explore The User Reviews Dataset**\n",
        "---"
      ]
    },
    {
      "cell_type": "code",
      "execution_count": null,
      "metadata": {
        "id": "5lHv2Y2M6Ooi"
      },
      "outputs": [],
      "source": [
        "#calling the variable of user reviews dataset\n",
        "user_review_data.head()"
      ]
    },
    {
      "cell_type": "code",
      "execution_count": null,
      "metadata": {
        "id": "6rwjr2_l6VXp"
      },
      "outputs": [],
      "source": [
        "#column names\n",
        "user_review_data.columns.values"
      ]
    },
    {
      "cell_type": "markdown",
      "metadata": {
        "id": "XiNWb47w6fSk"
      },
      "source": [
        "---\n",
        "**COLUMN NAMES OF USER REVIEWS DATA**\n",
        "---\n",
        "**App** - The name of the application.\n",
        "\n",
        "**Translated_Review** -Review text in English.\n",
        "\n",
        "**Sentiment** - tells us about a view or opinion of the user with respect to the application, which can be positive, neutral, or negative.\n",
        "\n",
        "**Sentiment_Polarity** - Sentiment in numerical form, ranging from -1.00 to 1.00.\n",
        "\n",
        "**Sentiment_Subjectivity** - Measure of the expression of opinions, evaluations, feelings, and speculations\n"
      ]
    },
    {
      "cell_type": "code",
      "execution_count": null,
      "metadata": {
        "id": "avMyBMDC6cf0"
      },
      "outputs": [],
      "source": [
        "#data understanding\n",
        "print(f\"There are total {user_review_data.shape[0]} rows and {user_review_data.shape[1]} columns in User Reviews dataframe.\")"
      ]
    },
    {
      "cell_type": "code",
      "execution_count": null,
      "metadata": {
        "id": "aUkEdFY86ciF"
      },
      "outputs": [],
      "source": [
        "#information about data\n",
        "user_review_data.info()"
      ]
    },
    {
      "cell_type": "code",
      "execution_count": null,
      "metadata": {
        "id": "5UVOV8Z96cko"
      },
      "outputs": [],
      "source": [
        "#Statistical understanding of data\n",
        "user_review_data.describe(include=\"all\")"
      ]
    },
    {
      "cell_type": "code",
      "execution_count": null,
      "metadata": {
        "id": "pkTPmb0a8AQ2"
      },
      "outputs": [],
      "source": [
        "#duplicates\n",
        "print(\"Duplicate entry in user_review_data:\",len(user_review_data[user_review_data.duplicated()])) #total number of duplicates"
      ]
    },
    {
      "cell_type": "code",
      "execution_count": null,
      "metadata": {
        "id": "i5elJF5l6cnn"
      },
      "outputs": [],
      "source": [
        "#Remove Duplicates from user_reviews database\n",
        "user_review_data1 = user_review_data.drop_duplicates() #remove duplicate \n",
        "user_review_data1.shape #shape after removing duplicates"
      ]
    },
    {
      "cell_type": "code",
      "execution_count": null,
      "metadata": {
        "id": "u7W2o-CB8TEh"
      },
      "outputs": [],
      "source": [
        "#making a DataFrame\n",
        "def UserReviewInfo():\n",
        "  URinfo_df = pd.DataFrame(index=user_review_data1.columns)\n",
        "  URinfo_df['Datatypes'] =  user_review_data1.dtypes\n",
        "  URinfo_df['Count of non-null values'] = user_review_data1.count()\n",
        "  URinfo_df['NaN values'] = user_review_data1.isnull().sum()\n",
        "  URinfo_df['% NaN Values'] = (URinfo_df['NaN values']/len(user_review_data1)).round(4)*100 \n",
        "  # or user_review_data1.isnull().mean()\n",
        "  URinfo_df['Unique_count'] = user_review_data1.nunique()\n",
        "  return URinfo_df\n",
        "UserReviewInfo()"
      ]
    },
    {
      "cell_type": "markdown",
      "metadata": {
        "id": "U0lvVgRN8p-J"
      },
      "source": [
        "**Insights**\n",
        "---\n",
        "\n",
        "From the above, we understand that only for App column, we are having a good dataset.\n",
        "There are so many of null values in dataset, we need to take care of that part.\n",
        "\n",
        "The number of null values are:\n",
        "\n",
        "* **Translated_Review** has 987 null values which contributes 3.22% of the data.\n",
        "* **Sentiment** has 982 null values which contributes 3.20% of the data.\n",
        "\n",
        "* **Sentiment_Polarity** has 982 null values which contributes 3.20% of the data.\n",
        "* **Sentiment_Subjectivity** has 982 null values which contributes 3.20% of the data.\n",
        "\n",
        "By Datatypes column, We know that there are two numeric type feature i.e. *Sentiment_Polarity* and *Sentiment_Subjectivity*.\n",
        "\n",
        "Unique count of *Sentiment* are very small i.e. 3 ."
      ]
    },
    {
      "cell_type": "markdown",
      "metadata": {
        "id": "4K9l29Ks9RcI"
      },
      "source": [
        "**Data Filtering and Each Columns Data Operation**\n",
        "---"
      ]
    },
    {
      "cell_type": "markdown",
      "metadata": {
        "id": "ww_zh0D09cq8"
      },
      "source": [
        "**Filtering of User Reviews DataFrame**"
      ]
    },
    {
      "cell_type": "code",
      "execution_count": null,
      "metadata": {
        "id": "VWox6ui8-kQg"
      },
      "outputs": [],
      "source": [
        "#drop NaN values from Translated_Review\n",
        "user_review_data2 = user_review_data1.dropna(subset=[\"Translated_Review\"],how=\"all\") #store in another DataFrame\n",
        "#call the new DataFrame to check whether null values present or not\n",
        "user_review_data2.isnull().sum()"
      ]
    },
    {
      "cell_type": "code",
      "execution_count": null,
      "metadata": {
        "id": "x-BtPb7V8ePs"
      },
      "outputs": [],
      "source": [
        "user_review_data3 = user_review_data2.drop(columns=[\"Translated_Review\"]) # there is no need to know about Review text in English.\n",
        "user_review_data3.shape"
      ]
    },
    {
      "cell_type": "markdown",
      "metadata": {
        "id": "Lh4hvHHg_jUB"
      },
      "source": [
        "**App Column Operation**\n",
        "--"
      ]
    },
    {
      "cell_type": "code",
      "execution_count": null,
      "metadata": {
        "id": "qT14u3IA-RgN"
      },
      "outputs": [],
      "source": [
        "duplicate_in_app = play_store_data1[play_store_data1.duplicated('App')] #Total apps is not matching with unique values of app so checking duplicate apps and drop it\n",
        "duplicate_in_app.shape[0]"
      ]
    },
    {
      "cell_type": "code",
      "execution_count": null,
      "metadata": {
        "id": "ZBaqiSBF_0B-"
      },
      "outputs": [],
      "source": [
        "#Remove Duplicates from App Column\n",
        "play_store_data2 = play_store_data1.drop_duplicates(subset='App',keep='last') \n",
        "play_store_data2"
      ]
    },
    {
      "cell_type": "markdown",
      "metadata": {
        "id": "bwR7lczNA6-D"
      },
      "source": [
        "**Category Column Operation**\n",
        "--"
      ]
    },
    {
      "cell_type": "code",
      "execution_count": null,
      "metadata": {
        "id": "1jlI6DieAh6_"
      },
      "outputs": [],
      "source": [
        "#first checking the values in the Category column.\n",
        "pd.DataFrame(play_store_data2['Category'].value_counts(ascending=False))"
      ]
    },
    {
      "cell_type": "code",
      "execution_count": null,
      "metadata": {
        "id": "o11mi3rZ5WtQ"
      },
      "outputs": [],
      "source": [
        "#getting top 5 categories\n",
        "pd.DataFrame(play_store_data2['Category'].value_counts(ascending=False)).head()"
      ]
    },
    {
      "cell_type": "code",
      "execution_count": null,
      "metadata": {
        "id": "POiJ8JTMA2vD"
      },
      "outputs": [],
      "source": [
        "#1.9 look like a outliner therefore checking data\n",
        "play_store_data2[play_store_data2['Category'] == '1.9']"
      ]
    },
    {
      "cell_type": "code",
      "execution_count": null,
      "metadata": {
        "id": "GfczZKRMBQWY"
      },
      "outputs": [],
      "source": [
        "#by mistake dataentry is wrong,so will shift rows from category column and correct it\n",
        "from copy import deepcopy\n",
        "missing_entry = deepcopy(play_store_data2.loc[10472])\n",
        "missing_entry[1:] = missing_entry[1:].shift(periods=1)\n",
        "play_store_data2.loc[10472] = missing_entry\n",
        "# # remove the temporary variable\n",
        "del missing_entry\n"
      ]
    },
    {
      "cell_type": "code",
      "execution_count": null,
      "metadata": {
        "id": "NRzq8PwuCIRg"
      },
      "outputs": [],
      "source": [
        "#crosscheck data with google playstore and update category \n",
        "play_store_data2.loc[10472, 'Category'] = 'LIFESTYLE'\n",
        "play_store_data2.loc[10472]\n"
      ]
    },
    {
      "cell_type": "markdown",
      "metadata": {
        "id": "gOHsoBQ7DRkg"
      },
      "source": [
        "**Rating Column Operation**\n",
        "--"
      ]
    },
    {
      "cell_type": "code",
      "execution_count": null,
      "metadata": {
        "id": "rC2WTO28DS0_"
      },
      "outputs": [],
      "source": [
        "#null values in Rating column\n",
        "play_store_data2['Rating'].isnull().sum()"
      ]
    },
    {
      "cell_type": "code",
      "execution_count": null,
      "metadata": {
        "id": "-CAcchW9Dgge"
      },
      "outputs": [],
      "source": [
        "#fill null values by median\n",
        "x=play_store_data2.Rating.median()\n",
        "play_store_data2.Rating.fillna(x,inplace=True)\n",
        "play_store_data2[\"Rating\"].isnull().sum()"
      ]
    },
    {
      "cell_type": "code",
      "execution_count": null,
      "metadata": {
        "id": "W9NIfgbKDt5V"
      },
      "outputs": [],
      "source": [
        "#datatype of all the columns\n",
        "play_store_data2.dtypes"
      ]
    },
    {
      "cell_type": "code",
      "execution_count": null,
      "metadata": {
        "id": "-RUSodQREKtY"
      },
      "outputs": [],
      "source": [
        "#know about null values\n",
        "play_store_data2.isnull().sum()"
      ]
    },
    {
      "cell_type": "code",
      "execution_count": null,
      "metadata": {
        "id": "Cue5NU6WF8eH"
      },
      "outputs": [],
      "source": [
        "#changing the datatype of rating\n",
        "play_store_data2['Rating'] = play_store_data2['Rating'].astype('float64')\n",
        "play_store_data2['Rating'].dtype"
      ]
    },
    {
      "cell_type": "code",
      "execution_count": null,
      "metadata": {
        "id": "BEDaPLgTCUaO"
      },
      "outputs": [],
      "source": [
        "#finding outliers\n",
        "play_store_data2[\"Rating\"][play_store_data2[\"Rating\"]>5].count()"
      ]
    },
    {
      "cell_type": "code",
      "execution_count": null,
      "metadata": {
        "id": "TccrsJ0t8Vlv"
      },
      "outputs": [],
      "source": [
        "#analysis the Rating column that Rating greater than and equal to 4.0 to know the count of high rating app\n",
        "play_store_data2[\"Rating\"][play_store_data2[\"Rating\"]>=4.0].count()"
      ]
    },
    {
      "cell_type": "markdown",
      "metadata": {
        "id": "wsP-wx4DGe-m"
      },
      "source": [
        "**Reviews Column Operation**\n",
        "--"
      ]
    },
    {
      "cell_type": "code",
      "execution_count": null,
      "metadata": {
        "id": "YH4W6okXH55m"
      },
      "outputs": [],
      "source": [
        "#null values in Reviews column\n",
        "play_store_data2['Reviews'].isnull().sum()"
      ]
    },
    {
      "cell_type": "code",
      "execution_count": null,
      "metadata": {
        "id": "ferh9jZWFSJP"
      },
      "outputs": [],
      "source": [
        "#changing datatype of Reviews column\n",
        "play_store_data2['Reviews'] = play_store_data2['Reviews'].astype('int')\n",
        "play_store_data2['Reviews'].dtype\n"
      ]
    },
    {
      "cell_type": "markdown",
      "metadata": {
        "id": "AHZtT1FdM7__"
      },
      "source": [
        "**Installs Column Operation**\n",
        "--"
      ]
    },
    {
      "cell_type": "code",
      "execution_count": null,
      "metadata": {
        "id": "Qv-kLfvzNmmj"
      },
      "outputs": [],
      "source": [
        "#removing unnecessary characters and save as play_store_data2\n",
        "play_store_data2=play_store_data2.replace('[+,$]','',regex=True)\n",
        "play_store_data2.head()"
      ]
    },
    {
      "cell_type": "code",
      "execution_count": null,
      "metadata": {
        "id": "qJ2Nh-MGM2Pq"
      },
      "outputs": [],
      "source": [
        "#changing Datatype of Installs column\n",
        "play_store_data2['Installs']=play_store_data2['Installs'].astype('int')\n",
        "play_store_data2['Installs'].dtype"
      ]
    },
    {
      "cell_type": "code",
      "execution_count": null,
      "metadata": {
        "id": "9mlp5kE3ARrR"
      },
      "outputs": [],
      "source": [
        "#analysis the count of install of Apps greater than and equal to 1 billion\n",
        "print(play_store_data2[play_store_data2['Installs']>=1000000000].shape[0])\n",
        "play_store_data2[play_store_data2['Installs']>=1000000000]"
      ]
    },
    {
      "cell_type": "markdown",
      "metadata": {
        "id": "zLL-T8zsOa3J"
      },
      "source": [
        "**Type Column Operation**\n",
        "--"
      ]
    },
    {
      "cell_type": "code",
      "execution_count": null,
      "metadata": {
        "id": "HWxTP2bQNPJx"
      },
      "outputs": [],
      "source": [
        "play_store_data2['Type'].unique() #Find Unique Values From Type Columns"
      ]
    },
    {
      "cell_type": "code",
      "execution_count": null,
      "metadata": {
        "id": "oyLzhQO-OmXo"
      },
      "outputs": [],
      "source": [
        "play_store_data2[play_store_data2.Type.isnull()] #finding NaN data row"
      ]
    },
    {
      "cell_type": "code",
      "execution_count": null,
      "metadata": {
        "id": "7coJbP_XOqU7"
      },
      "outputs": [],
      "source": [
        "play_store_data2.loc[9148, 'Type'] = 'Free' #Check with playstore and replace with Free since Price=0 \n",
        "play_store_data2.loc[9148]"
      ]
    },
    {
      "cell_type": "code",
      "execution_count": null,
      "metadata": {
        "id": "mT5Rq7m4Owx1"
      },
      "outputs": [],
      "source": [
        "play_store_data2['Type'].unique() #Find Unique Values From Type Columns"
      ]
    },
    {
      "cell_type": "markdown",
      "metadata": {
        "id": "b_45ZTnUPQGO"
      },
      "source": [
        "**Size Columns Operation**\n",
        "--"
      ]
    },
    {
      "cell_type": "code",
      "execution_count": null,
      "metadata": {
        "id": "pCPWIozBPMSr"
      },
      "outputs": [],
      "source": [
        "#Convert all size to KB so Each M have to Multiply with 1024\n",
        "#Removing \"M\", Changing Size To KB\n",
        "play_store_data2['Size'] = play_store_data2['Size'].map(\n",
        "    lambda value :\n",
        "        str(int(float(value.rstrip('M')) * 1024)) if value[-1] == 'M' else value\n",
        ")\n",
        "\n",
        "# Removing \"k\"\n",
        "play_store_data2['Size'] = play_store_data2['Size'].map(\n",
        "    lambda value :\n",
        "        str(value.rstrip('k')) if value[-1] == 'k' else value\n",
        ")\n",
        "\n",
        "# Setting \"Varies with device\" to NaN\n",
        "play_store_data2['Size'] = play_store_data2['Size'].map(\n",
        "    lambda value :\n",
        "        np.nan if value == 'Varies with device' else value\n",
        ")"
      ]
    },
    {
      "cell_type": "code",
      "execution_count": null,
      "metadata": {
        "id": "o5SGwKifFu5W"
      },
      "outputs": [],
      "source": [
        "#unique values\n",
        "play_store_data2['Size'].unique()"
      ]
    },
    {
      "cell_type": "code",
      "execution_count": null,
      "metadata": {
        "id": "exSNkZD6DpM2"
      },
      "outputs": [],
      "source": [
        "#again changing the Datatype\n",
        "play_store_data2['Size']=play_store_data2['Size'].astype('float') "
      ]
    },
    {
      "cell_type": "code",
      "execution_count": null,
      "metadata": {
        "id": "ElcHeHO9FYX1"
      },
      "outputs": [],
      "source": [
        "#in order to deal with null values, we replace it to median of the Size column\n",
        "play_store_data2['Size'].replace([np.nan], play_store_data2['Size'].median(), inplace=True)"
      ]
    },
    {
      "cell_type": "code",
      "execution_count": null,
      "metadata": {
        "id": "0-JhlL2FFotT"
      },
      "outputs": [],
      "source": [
        "#rechecking the null values\n",
        "play_store_data2['Size'].isnull().sum()"
      ]
    },
    {
      "cell_type": "code",
      "execution_count": null,
      "metadata": {
        "id": "kIm9UimI7qOC"
      },
      "outputs": [],
      "source": [
        "# analysis that App Size <= 50MB to know about the count of low storage app\n",
        "play_store_data2[play_store_data2[\"Size\"]<=50*1024].shape[0]"
      ]
    },
    {
      "cell_type": "markdown",
      "metadata": {
        "id": "Avi638lrHSuZ"
      },
      "source": [
        "**Price Columns Operation**\n",
        "--"
      ]
    },
    {
      "cell_type": "code",
      "execution_count": null,
      "metadata": {
        "id": "nv6UPsXbHRiF"
      },
      "outputs": [],
      "source": [
        "#count of null values in Price column\n",
        "play_store_data2['Price'].isnull().sum()"
      ]
    },
    {
      "cell_type": "code",
      "execution_count": null,
      "metadata": {
        "id": "3390bgMsHGIn"
      },
      "outputs": [],
      "source": [
        "#changing datatype \"object\"(i.e. categorical datatype) to \"Float\"(i.e. numerical datatype)\n",
        "play_store_data2['Price'] = play_store_data2['Price'].astype('float64')\n",
        "play_store_data2['Price'].dtype\n"
      ]
    },
    {
      "cell_type": "markdown",
      "metadata": {
        "id": "qJs1OqP7Ijf6"
      },
      "source": [
        " **Content Rating Column Operation**\n",
        "--"
      ]
    },
    {
      "cell_type": "code",
      "execution_count": null,
      "metadata": {
        "id": "-SlcnBzgJGuG"
      },
      "outputs": [],
      "source": [
        "#count the values in Content Rating\n",
        "play_store_data2['Content Rating'].value_counts()"
      ]
    },
    {
      "cell_type": "code",
      "execution_count": null,
      "metadata": {
        "id": "OKH8YpuUIQRm"
      },
      "outputs": [],
      "source": [
        "#null values in Content Rating\n",
        "play_store_data2['Content Rating'].isnull().sum()"
      ]
    },
    {
      "cell_type": "markdown",
      "metadata": {
        "id": "Pv_Ek4bl8UhA"
      },
      "source": [
        " **Genres Column Operation**\n",
        "--"
      ]
    },
    {
      "cell_type": "code",
      "execution_count": null,
      "metadata": {
        "id": "sWRbGbBw8VDl"
      },
      "outputs": [],
      "source": [
        "#row of null value of Genres in the dataset\n",
        "play_store_data2[play_store_data2.Genres.isnull()]"
      ]
    },
    {
      "cell_type": "code",
      "execution_count": null,
      "metadata": {
        "id": "eTBDNLg_9IbV"
      },
      "outputs": [],
      "source": [
        "l1=play_store_data2[play_store_data2[\"Category\"]==\"LIFESTYLE\"]\n",
        "print(l1)\n",
        "a=l1.groupby(['Category'])['Genres'].agg(pd.Series.mode)\n"
      ]
    },
    {
      "cell_type": "code",
      "execution_count": null,
      "metadata": {
        "id": "AKnwUE88AKTB"
      },
      "outputs": [],
      "source": [
        "play_store_data2[\"Genres\"]=play_store_data2[\"Genres\"].replace(np.nan, \"Lifestyle\")"
      ]
    },
    {
      "cell_type": "code",
      "execution_count": null,
      "metadata": {
        "id": "9-etb8fjAsVh"
      },
      "outputs": [],
      "source": [
        "play_store_data2.isnull().sum()"
      ]
    },
    {
      "cell_type": "code",
      "execution_count": null,
      "metadata": {
        "id": "wwycjjnk82UQ"
      },
      "outputs": [],
      "source": [
        "play_store_data2[\"Genres\"].value_counts()"
      ]
    },
    {
      "cell_type": "markdown",
      "metadata": {
        "id": "CecNaxXvCS6I"
      },
      "source": [
        " **Current Ver Column Operation**\n",
        "--"
      ]
    },
    {
      "cell_type": "code",
      "execution_count": null,
      "metadata": {
        "id": "3jCcWJTpCgFC"
      },
      "outputs": [],
      "source": [
        "CurrentVer_count=pd.value_counts(play_store_data2[\"Current Ver\"], sort=True)\n",
        "CurrentVer_count"
      ]
    },
    {
      "cell_type": "markdown",
      "metadata": {
        "id": "l-9L4q04QRQj"
      },
      "source": [
        "**Android Ver Column Operation**\n",
        "--"
      ]
    },
    {
      "cell_type": "code",
      "execution_count": null,
      "metadata": {
        "id": "UAKr_r2rJT9F"
      },
      "outputs": [],
      "source": [
        "AndroidVer_count=pd.value_counts(play_store_data2[\"Android Ver\"], sort=True)\n",
        "a=AndroidVer_count.head(15)\n",
        "a"
      ]
    },
    {
      "cell_type": "markdown",
      "metadata": {
        "id": "MdW-BuCcS0IO"
      },
      "source": [
        "**Last Updated Column Operation**\n",
        "--"
      ]
    },
    {
      "cell_type": "code",
      "execution_count": null,
      "metadata": {
        "id": "8va3By9OQYnU"
      },
      "outputs": [],
      "source": [
        "play_store_data2['Last Updated'] = pd.to_datetime(play_store_data2['Last Updated'])\n",
        "play_store_data2['Last Updated']"
      ]
    },
    {
      "cell_type": "code",
      "execution_count": null,
      "metadata": {
        "id": "_tIZxoZiTVKS"
      },
      "outputs": [],
      "source": [
        "play_store_data2['LastUpdated_Day']=play_store_data2['Last Updated'].dt.day\n",
        "play_store_data2['LastUpdated_Month']=play_store_data2['Last Updated'].dt.month\n",
        "play_store_data2['LastUpdated_Year']=play_store_data2['Last Updated'].dt.year"
      ]
    },
    {
      "cell_type": "code",
      "execution_count": null,
      "metadata": {
        "id": "TTgv4wIfToFo"
      },
      "outputs": [],
      "source": [
        "play_store_data2.info()"
      ]
    },
    {
      "cell_type": "code",
      "execution_count": null,
      "metadata": {
        "id": "bQWMoVy_TvdQ"
      },
      "outputs": [],
      "source": [
        "play_store_data2.isnull().sum()"
      ]
    },
    {
      "cell_type": "markdown",
      "metadata": {
        "id": "LZpHd9kjUxLx"
      },
      "source": [
        "**Seperate Numerical And Categorical Data**\n",
        "--"
      ]
    },
    {
      "cell_type": "code",
      "execution_count": null,
      "metadata": {
        "id": "XNfoAeaEUsoi"
      },
      "outputs": [],
      "source": [
        "#for numerical data\n",
        "num_df_columns=[columns for columns in play_store_data2.columns if play_store_data2[columns].dtype!='O']\n",
        "num_df_columns"
      ]
    },
    {
      "cell_type": "code",
      "execution_count": null,
      "metadata": {
        "id": "-t2tpA-dVRcr"
      },
      "outputs": [],
      "source": [
        "num_df=play_store_data2[num_df_columns]\n",
        "num_df"
      ]
    },
    {
      "cell_type": "code",
      "execution_count": null,
      "metadata": {
        "id": "qXLJV8QmVmNz"
      },
      "outputs": [],
      "source": [
        "#for categorical Data\n",
        "cat_df_columns=[columns for columns in play_store_data2.columns if play_store_data2[columns].dtype=='O']\n",
        "cat_df_columns"
      ]
    },
    {
      "cell_type": "code",
      "execution_count": null,
      "metadata": {
        "id": "2XsuifXRWGkK"
      },
      "outputs": [],
      "source": [
        "cat_df=play_store_data2[cat_df_columns]\n",
        "cat_df"
      ]
    },
    {
      "cell_type": "markdown",
      "metadata": {
        "id": "L6iBriVf93K3"
      },
      "source": [
        "###**lets take user reviews dataset**\n",
        "---"
      ]
    },
    {
      "cell_type": "code",
      "execution_count": null,
      "metadata": {
        "id": "F6kMa3AY92ZN"
      },
      "outputs": [],
      "source": [
        "#user_reviews dataset\n",
        "user_review_data3.head()"
      ]
    },
    {
      "cell_type": "markdown",
      "metadata": {
        "id": "9dSL6tIF_4Ur"
      },
      "source": [
        "**Sentiment data**\n",
        "---"
      ]
    },
    {
      "cell_type": "code",
      "execution_count": null,
      "metadata": {
        "id": "_Q9vA5C4-iiE"
      },
      "outputs": [],
      "source": [
        "user_review_data3[\"Sentiment\"].value_counts()*100/user_review_data3[\"Sentiment\"].count()"
      ]
    },
    {
      "cell_type": "markdown",
      "metadata": {
        "id": "oDdxz_3iWjNQ"
      },
      "source": [
        "**EDA OF Playstore Data**\n",
        "--"
      ]
    },
    {
      "cell_type": "markdown",
      "metadata": {
        "id": "1I9KjzZ2WjPl"
      },
      "source": [
        "**Which Android Version Supported the Apps ?**\n",
        "--"
      ]
    },
    {
      "cell_type": "code",
      "execution_count": null,
      "metadata": {
        "id": "lBiqcA0i2rGB"
      },
      "outputs": [],
      "source": [
        "AndroidVer_count.value_counts()"
      ]
    },
    {
      "cell_type": "code",
      "execution_count": null,
      "metadata": {
        "id": "6VlmlS75WZce"
      },
      "outputs": [],
      "source": [
        "plt.figure(figsize=(15,10))\n",
        "a.plot(kind = 'pie',autopct='%1.02f%%',shadow=True)\n",
        "plt.title('Android Version Supported Apps',size=20)\n",
        "plt.show()"
      ]
    },
    {
      "cell_type": "markdown",
      "metadata": {
        "id": "qWvhv-dNXriU"
      },
      "source": [
        "**Summary**: After percentage frequency distribution of data,\n",
        "\n",
        " we conclude that-\n",
        "\n",
        "android version 4.0 and above supported apps is very higher and more than 60% of total app support."
      ]
    },
    {
      "cell_type": "markdown",
      "metadata": {
        "id": "mJEfXaSTXwuS"
      },
      "source": [
        "**Frequency of apps in each category ?**\n",
        "--"
      ]
    },
    {
      "cell_type": "code",
      "execution_count": null,
      "metadata": {
        "id": "my12ZnOPXBL8"
      },
      "outputs": [],
      "source": [
        "plt.figure(figsize=(15,10))\n",
        "\n",
        "y = play_store_data2['Category'].value_counts().index\n",
        "x = play_store_data2['Category'].value_counts()\n",
        "sns.barplot(x, y)\n",
        "plt.xlabel(\"Count\",fontsize=15)\n",
        "plt.ylabel(\"Category\",fontsize=15)\n",
        "plt.title(\"frequency of app in each categories \", fontsize = 20);"
      ]
    },
    {
      "cell_type": "markdown",
      "metadata": {
        "id": "Jdz2ZOC3VzHe"
      },
      "source": [
        "**Summary**:\n",
        "From above Bar chart,\n",
        "\n",
        "we conclude that-\n",
        "\n",
        "most of the apps on play Store belongs to family category."
      ]
    },
    {
      "cell_type": "markdown",
      "metadata": {
        "id": "rjd4cpk7eXR1"
      },
      "source": [
        "**Genres wise top apps in playstore**\n",
        "--"
      ]
    },
    {
      "cell_type": "code",
      "execution_count": null,
      "metadata": {
        "id": "LlYxVzsOX0nT"
      },
      "outputs": [],
      "source": [
        "y = play_store_data2['Genres'].value_counts().index\n",
        "x = play_store_data2['Genres'].value_counts().head(10)\n",
        "X = []\n",
        "Y= []\n",
        "for i in range(len(x)):\n",
        "    X.append(x[i])\n",
        "    Y.append(y[i])\n",
        "\n",
        "plt.figure(figsize=(15,5))\n",
        "plt.xlabel(\"Count\",fontsize=15)\n",
        "plt.ylabel(\"Genres\",fontsize=15)\n",
        "\n",
        "graph = sns.barplot(x = X, y = Y)\n",
        "graph.set_title(\"Top Genres on Playstore\", fontsize = 20)\n",
        "plt.show()"
      ]
    },
    {
      "cell_type": "markdown",
      "metadata": {
        "id": "AeHBaj86XfRu"
      },
      "source": [
        "**summary:**\n",
        "Tools genre have the highest count followed by Entertainment"
      ]
    },
    {
      "cell_type": "markdown",
      "metadata": {
        "id": "BLvHgUIJhTnw"
      },
      "source": [
        "**Most Frequent Rating on playstore Apps**\n",
        "--"
      ]
    },
    {
      "cell_type": "code",
      "execution_count": null,
      "metadata": {
        "id": "ZS-wOwpkgTSi"
      },
      "outputs": [],
      "source": [
        "plt.figure(figsize=(15,5))\n",
        "sns.kdeplot(play_store_data2.Rating, color=\"#4B0751\", shade = True)\n",
        "plt.xlabel(\"Rating\",fontsize=15)\n",
        "plt.ylabel(\"Frequency\",fontsize=15)\n",
        "plt.title('Most Frequent Rating',size = 20)\n",
        "plt.show()"
      ]
    },
    {
      "cell_type": "markdown",
      "metadata": {
        "id": "wgPB4NmtYD0G"
      },
      "source": [
        "**Summary**:\n",
        "\n",
        "from the above graph, we conclude that most of the Apps in Play Store are rated in the region of 4 to 4.8."
      ]
    },
    {
      "cell_type": "markdown",
      "metadata": {
        "id": "PLMqv_GGhw5h"
      },
      "source": [
        "**Distribution of Free and Paid App**\n",
        "--"
      ]
    },
    {
      "cell_type": "code",
      "execution_count": null,
      "metadata": {
        "id": "XxUsDg67fA2i"
      },
      "outputs": [],
      "source": [
        "plt.figure(figsize=(15,10))\n",
        "x=play_store_data2.Type.value_counts()\n",
        "Colors = ['#ff9999','#66b3ff']\n",
        "label=[\"Free\",\"Paid\"]\n",
        "plt.pie(x,labels=label,autopct=\"%1.2f%%\",shadow=True,explode=[ 0, 0.1],startangle=45,colors=Colors)\n",
        "plt.title(\"Free  v/s  Paid\", fontsize=20)\n",
        "plt.legend()\n",
        "plt.show()"
      ]
    },
    {
      "cell_type": "markdown",
      "metadata": {
        "id": "epNQl98XmAhj"
      },
      "source": [
        "**Summary-4**:\n",
        "\n",
        "* Free apps in playstore are 92.19%\n",
        "\n",
        "* Paid apps in playstore are 7.81%\n",
        "\n"
      ]
    },
    {
      "cell_type": "markdown",
      "metadata": {
        "id": "eRJeVFTHmNLy"
      },
      "source": [
        "**App Updation Details By Year**\n",
        "--"
      ]
    },
    {
      "cell_type": "code",
      "execution_count": null,
      "metadata": {
        "id": "kowibxOGkhK2"
      },
      "outputs": [],
      "source": [
        "plt.figure(figsize=(15,5))\n",
        "plt.title(\"Apps updation by years\", fontsize=20)\n",
        "ax = plt.hist(play_store_data2.LastUpdated_Year, color=\"#ffcc99\")\n",
        "plt.tick_params(left='on', bottom='on') \n",
        "plt.xlabel(\"Year\",size=15)\n",
        "plt.ylabel(\"Number of apps updated\",size=15)\n",
        "plt.show() "
      ]
    },
    {
      "cell_type": "code",
      "execution_count": null,
      "metadata": {
        "id": "Soozziq2-8Du"
      },
      "outputs": [],
      "source": [
        "m1=play_store_data2[play_store_data2[\"Type\"]==\"Free\"]\n",
        "m1"
      ]
    },
    {
      "cell_type": "code",
      "execution_count": null,
      "metadata": {
        "id": "IlW2WfOE9WGI"
      },
      "outputs": [],
      "source": [
        "#sns.barplot(play_store_data2[\"LastUpdated_Month\"],m1[\"Type\"])\n",
        "h=pd.value_counts(m1[\"LastUpdated_Month\"]).sort_values()\n",
        "sns.countplot(h)"
      ]
    },
    {
      "cell_type": "code",
      "execution_count": null,
      "metadata": {
        "id": "7DYzL-7E39vy"
      },
      "outputs": [],
      "source": [
        ""
      ]
    },
    {
      "cell_type": "code",
      "execution_count": null,
      "metadata": {
        "id": "hr_4zA3L9WS0"
      },
      "outputs": [],
      "source": [
        ""
      ]
    },
    {
      "cell_type": "markdown",
      "metadata": {
        "id": "cQYShmElZd6n"
      },
      "source": [
        "**Summary:** \n",
        "from the above graph,\n",
        "\n",
        "we conclude that -\n",
        "\n",
        "most of the last update of apps on Play Store are in the year of 2017 and 2018."
      ]
    },
    {
      "cell_type": "markdown",
      "metadata": {
        "id": "6UhYr7PMn9pu"
      },
      "source": [
        "**Distribution of Content Rating for all app**\n",
        "--"
      ]
    },
    {
      "cell_type": "code",
      "execution_count": null,
      "metadata": {
        "id": "LHPmBL7Uix8p"
      },
      "outputs": [],
      "source": [
        "plt.figure(figsize=(15,10))\n",
        "colors=[\"#bd7ebe\", \"#ffee65\", \"#beb9db\", \"#fdcce5\", \"#8bd3c7\"]\n",
        "pd.value_counts(play_store_data2[\"Content Rating\"]).plot(kind = 'pie',  autopct='%1.2f%%', shadow=True,colors=colors)\n",
        "plt.show()"
      ]
    },
    {
      "cell_type": "markdown",
      "metadata": {
        "id": "2DnuB6FIbQBH"
      },
      "source": [
        "**Summary:**\n",
        "from the above pie chart,\n",
        "\n",
        "we conclude that most of the app in Play Store is accessible by everyone."
      ]
    },
    {
      "cell_type": "markdown",
      "metadata": {
        "id": "cZwz4T37ozHL"
      },
      "source": [
        "**Content Rating in Free and Paid**\n",
        "--"
      ]
    },
    {
      "cell_type": "code",
      "execution_count": null,
      "metadata": {
        "id": "94IGYRbtolKg"
      },
      "outputs": [],
      "source": [
        "plt.figure(figsize=(15,10))\n",
        "\n",
        "ax = sns.countplot(play_store_data2['Content Rating'],hue=play_store_data2['Type'],palette=\"Set3\")\n",
        "\n",
        "plt.title(\"Content Rating in Free and Paid\",size=20)\n",
        "\n",
        "for p in ax.patches:\n",
        "   ax.annotate(p.get_height(),(p.get_x() + p.get_width()/2,p.get_height()),ha='center',size= 12)\n",
        "    \n",
        "plt.show()"
      ]
    },
    {
      "cell_type": "markdown",
      "metadata": {
        "id": "rzFTgFv_gKDL"
      },
      "source": [
        "**Summary:**\n",
        "from the above chart,\n",
        "\n",
        " we conclude that:\n",
        "\n",
        " most of the apps in PlayStore are free and accessible by everyone."
      ]
    },
    {
      "cell_type": "code",
      "execution_count": null,
      "metadata": {
        "colab": {
          "background_save": true
        },
        "id": "gREcnKgRnA3N",
        "outputId": "57708aee-eb50-4aa8-9eb8-0a0b1da6c5c9"
      },
      "outputs": [
        {
          "data": {
            "text/plain": [
              "<BarContainer object of 9660 artists>"
            ]
          },
          "execution_count": 83,
          "metadata": {},
          "output_type": "execute_result"
        },
        {
          "data": {
            "image/png": "[encoded data removed]",
            "text/plain": [
              "<Figure size 1080x1440 with 1 Axes>"
            ]
          },
          "metadata": {},
          "output_type": "display_data"
        }
      ],
      "source": [
        "#install v/s category\n",
        "plt.figure(figsize=(15,20))\n",
        "plt.barh(play_store_data2[\"Category\"],play_store_data2[\"Installs\"])"
      ]
    },
    {
      "cell_type": "markdown",
      "metadata": {
        "id": "8LLipjBZy1-V"
      },
      "source": [
        "**Apps Size Across Database**\n",
        "-- "
      ]
    },
    {
      "cell_type": "code",
      "execution_count": null,
      "metadata": {
        "colab": {
          "background_save": true
        },
        "id": "e-two5iOw-Qv",
        "outputId": "eadea394-7bbc-4602-e332-c3294ac0f796"
      },
      "outputs": [
        {
          "data": {
            "image/png": "[encoded data removed]",
            "text/plain": [
              "<Figure size 1080x720 with 1 Axes>"
            ]
          },
          "metadata": {},
          "output_type": "display_data"
        }
      ],
      "source": [
        "#Histogram for Size\n",
        "plt.figure(figsize=(15,10))\n",
        "sns.distplot(play_store_data2['Size'],color='g',kde_kws={'linewidth':3,'color':'#4B0751'});\n",
        "plt.title(\"Apps Size\",size=20)\n",
        "plt.show()"
      ]
    },
    {
      "cell_type": "markdown",
      "metadata": {
        "id": "4FJv9bPFgwAo"
      },
      "source": [
        "**Summary:**\n",
        "we conclude that-\n",
        "\n",
        "most of the apps in playstore of size between 0 to 20000kb."
      ]
    },
    {
      "cell_type": "code",
      "execution_count": null,
      "metadata": {
        "colab": {
          "background_save": true
        },
        "id": "3Ytn-3b6zJNv",
        "outputId": "23714c37-dba7-47ba-b21b-f326ae04374c"
      },
      "outputs": [
        {
          "data": {
            "text/html": [
              "\n",
              "  <div id=\"df-97779e19-9779-411f-b47c-26bf3b9007a6\">\n",
              "    <div class=\"colab-df-container\">\n",
              "      <div>\n",
              "<style scoped>\n",
              "    .dataframe tbody tr th:only-of-type {\n",
              "        vertical-align: middle;\n",
              "    }\n",
              "\n",
              "    .dataframe tbody tr th {\n",
              "        vertical-align: top;\n",
              "    }\n",
              "\n",
              "    .dataframe thead th {\n",
              "        text-align: right;\n",
              "    }\n",
              "</style>\n",
              "<table border=\"1\" class=\"dataframe\">\n",
              "  <thead>\n",
              "    <tr style=\"text-align: right;\">\n",
              "      <th></th>\n",
              "      <th>App</th>\n",
              "      <th>Category</th>\n",
              "      <th>Rating</th>\n",
              "      <th>Reviews</th>\n",
              "      <th>Size</th>\n",
              "      <th>Installs</th>\n",
              "      <th>Type</th>\n",
              "      <th>Price</th>\n",
              "      <th>Content Rating</th>\n",
              "      <th>Genres</th>\n",
              "      <th>Last Updated</th>\n",
              "      <th>Current Ver</th>\n",
              "      <th>Android Ver</th>\n",
              "      <th>LastUpdated_Day</th>\n",
              "      <th>LastUpdated_Month</th>\n",
              "      <th>LastUpdated_Year</th>\n",
              "      <th>Sentiment</th>\n",
              "      <th>Sentiment_Polarity</th>\n",
              "      <th>Sentiment_Subjectivity</th>\n",
              "    </tr>\n",
              "  </thead>\n",
              "  <tbody>\n",
              "    <tr>\n",
              "      <th>0</th>\n",
              "      <td>Garden Coloring Book</td>\n",
              "      <td>ART_AND_DESIGN</td>\n",
              "      <td>4.4</td>\n",
              "      <td>13791</td>\n",
              "      <td>33792.0</td>\n",
              "      <td>1000000</td>\n",
              "      <td>Free</td>\n",
              "      <td>0.0</td>\n",
              "      <td>Everyone</td>\n",
              "      <td>Art &amp; Design</td>\n",
              "      <td>2017-09-20</td>\n",
              "      <td>2.9.2</td>\n",
              "      <td>3.0 and up</td>\n",
              "      <td>20</td>\n",
              "      <td>9</td>\n",
              "      <td>2017</td>\n",
              "      <td>Positive</td>\n",
              "      <td>2.166667e-01</td>\n",
              "      <td>0.573810</td>\n",
              "    </tr>\n",
              "    <tr>\n",
              "      <th>1</th>\n",
              "      <td>Garden Coloring Book</td>\n",
              "      <td>ART_AND_DESIGN</td>\n",
              "      <td>4.4</td>\n",
              "      <td>13791</td>\n",
              "      <td>33792.0</td>\n",
              "      <td>1000000</td>\n",
              "      <td>Free</td>\n",
              "      <td>0.0</td>\n",
              "      <td>Everyone</td>\n",
              "      <td>Art &amp; Design</td>\n",
              "      <td>2017-09-20</td>\n",
              "      <td>2.9.2</td>\n",
              "      <td>3.0 and up</td>\n",
              "      <td>20</td>\n",
              "      <td>9</td>\n",
              "      <td>2017</td>\n",
              "      <td>Neutral</td>\n",
              "      <td>0.000000e+00</td>\n",
              "      <td>0.000000</td>\n",
              "    </tr>\n",
              "    <tr>\n",
              "      <th>2</th>\n",
              "      <td>Garden Coloring Book</td>\n",
              "      <td>ART_AND_DESIGN</td>\n",
              "      <td>4.4</td>\n",
              "      <td>13791</td>\n",
              "      <td>33792.0</td>\n",
              "      <td>1000000</td>\n",
              "      <td>Free</td>\n",
              "      <td>0.0</td>\n",
              "      <td>Everyone</td>\n",
              "      <td>Art &amp; Design</td>\n",
              "      <td>2017-09-20</td>\n",
              "      <td>2.9.2</td>\n",
              "      <td>3.0 and up</td>\n",
              "      <td>20</td>\n",
              "      <td>9</td>\n",
              "      <td>2017</td>\n",
              "      <td>Positive</td>\n",
              "      <td>3.000000e-01</td>\n",
              "      <td>0.600000</td>\n",
              "    </tr>\n",
              "    <tr>\n",
              "      <th>3</th>\n",
              "      <td>Garden Coloring Book</td>\n",
              "      <td>ART_AND_DESIGN</td>\n",
              "      <td>4.4</td>\n",
              "      <td>13791</td>\n",
              "      <td>33792.0</td>\n",
              "      <td>1000000</td>\n",
              "      <td>Free</td>\n",
              "      <td>0.0</td>\n",
              "      <td>Everyone</td>\n",
              "      <td>Art &amp; Design</td>\n",
              "      <td>2017-09-20</td>\n",
              "      <td>2.9.2</td>\n",
              "      <td>3.0 and up</td>\n",
              "      <td>20</td>\n",
              "      <td>9</td>\n",
              "      <td>2017</td>\n",
              "      <td>Positive</td>\n",
              "      <td>2.775558e-17</td>\n",
              "      <td>0.579167</td>\n",
              "    </tr>\n",
              "    <tr>\n",
              "      <th>4</th>\n",
              "      <td>Garden Coloring Book</td>\n",
              "      <td>ART_AND_DESIGN</td>\n",
              "      <td>4.4</td>\n",
              "      <td>13791</td>\n",
              "      <td>33792.0</td>\n",
              "      <td>1000000</td>\n",
              "      <td>Free</td>\n",
              "      <td>0.0</td>\n",
              "      <td>Everyone</td>\n",
              "      <td>Art &amp; Design</td>\n",
              "      <td>2017-09-20</td>\n",
              "      <td>2.9.2</td>\n",
              "      <td>3.0 and up</td>\n",
              "      <td>20</td>\n",
              "      <td>9</td>\n",
              "      <td>2017</td>\n",
              "      <td>Negative</td>\n",
              "      <td>-3.472222e-02</td>\n",
              "      <td>0.581944</td>\n",
              "    </tr>\n",
              "  </tbody>\n",
              "</table>\n",
              "</div>\n",
              "      <button class=\"colab-df-convert\" onclick=\"convertToInteractive('df-97779e19-9779-411f-b47c-26bf3b9007a6')\"\n",
              "              title=\"Convert this dataframe to an interactive table.\"\n",
              "              style=\"display:none;\">\n",
              "        \n",
              "  <svg xmlns=\"http://www.w3.org/2000/svg\" height=\"24px\"viewBox=\"0 0 24 24\"\n",
              "       width=\"24px\">\n",
              "    <path d=\"M0 0h24v24H0V0z\" fill=\"none\"/>\n",
              "    <path d=\"M18.56 5.44l.94 2.06.94-2.06 2.06-.94-2.06-.94-.94-2.06-.94 2.06-2.06.94zm-11 1L8.5 8.5l.94-2.06 2.06-.94-2.06-.94L8.5 2.5l-.94 2.06-2.06.94zm10 10l.94 2.06.94-2.06 2.06-.94-2.06-.94-.94-2.06-.94 2.06-2.06.94z\"/><path d=\"M17.41 7.96l-1.37-1.37c-.4-.4-.92-.59-1.43-.59-.52 0-1.04.2-1.43.59L10.3 9.45l-7.72 7.72c-.78.78-.78 2.05 0 2.83L4 21.41c.39.39.9.59 1.41.59.51 0 1.02-.2 1.41-.59l7.78-7.78 2.81-2.81c.8-.78.8-2.07 0-2.86zM5.41 20L4 18.59l7.72-7.72 1.47 1.35L5.41 20z\"/>\n",
              "  </svg>\n",
              "      </button>\n",
              "      \n",
              "  <style>\n",
              "    .colab-df-container {\n",
              "      display:flex;\n",
              "      flex-wrap:wrap;\n",
              "      gap: 12px;\n",
              "    }\n",
              "\n",
              "    .colab-df-convert {\n",
              "      background-color: #E8F0FE;\n",
              "      border: none;\n",
              "      border-radius: 50%;\n",
              "      cursor: pointer;\n",
              "      display: none;\n",
              "      fill: #1967D2;\n",
              "      height: 32px;\n",
              "      padding: 0 0 0 0;\n",
              "      width: 32px;\n",
              "    }\n",
              "\n",
              "    .colab-df-convert:hover {\n",
              "      background-color: #E2EBFA;\n",
              "      box-shadow: 0px 1px 2px rgba(60, 64, 67, 0.3), 0px 1px 3px 1px rgba(60, 64, 67, 0.15);\n",
              "      fill: #174EA6;\n",
              "    }\n",
              "\n",
              "    [theme=dark] .colab-df-convert {\n",
              "      background-color: #3B4455;\n",
              "      fill: #D2E3FC;\n",
              "    }\n",
              "\n",
              "    [theme=dark] .colab-df-convert:hover {\n",
              "      background-color: #434B5C;\n",
              "      box-shadow: 0px 1px 3px 1px rgba(0, 0, 0, 0.15);\n",
              "      filter: drop-shadow(0px 1px 2px rgba(0, 0, 0, 0.3));\n",
              "      fill: #FFFFFF;\n",
              "    }\n",
              "  </style>\n",
              "\n",
              "      <script>\n",
              "        const buttonEl =\n",
              "          document.querySelector('#df-97779e19-9779-411f-b47c-26bf3b9007a6 button.colab-df-convert');\n",
              "        buttonEl.style.display =\n",
              "          google.colab.kernel.accessAllowed ? 'block' : 'none';\n",
              "\n",
              "        async function convertToInteractive(key) {\n",
              "          const element = document.querySelector('#df-97779e19-9779-411f-b47c-26bf3b9007a6');\n",
              "          const dataTable =\n",
              "            await google.colab.kernel.invokeFunction('convertToInteractive',\n",
              "                                                     [key], {});\n",
              "          if (!dataTable) return;\n",
              "\n",
              "          const docLinkHtml = 'Like what you see? Visit the ' +\n",
              "            '<a target=\"_blank\" href=https://colab.research.google.com/notebooks/data_table.ipynb>data table notebook</a>'\n",
              "            + ' to learn more about interactive tables.';\n",
              "          element.innerHTML = '';\n",
              "          dataTable['output_type'] = 'display_data';\n",
              "          await google.colab.output.renderOutput(dataTable, element);\n",
              "          const docLink = document.createElement('div');\n",
              "          docLink.innerHTML = docLinkHtml;\n",
              "          element.appendChild(docLink);\n",
              "        }\n",
              "      </script>\n",
              "    </div>\n",
              "  </div>\n",
              "  "
            ],
            "text/plain": [
              "                    App        Category  Rating  Reviews     Size  Installs  \\\n",
              "0  Garden Coloring Book  ART_AND_DESIGN     4.4    13791  33792.0   1000000   \n",
              "1  Garden Coloring Book  ART_AND_DESIGN     4.4    13791  33792.0   1000000   \n",
              "2  Garden Coloring Book  ART_AND_DESIGN     4.4    13791  33792.0   1000000   \n",
              "3  Garden Coloring Book  ART_AND_DESIGN     4.4    13791  33792.0   1000000   \n",
              "4  Garden Coloring Book  ART_AND_DESIGN     4.4    13791  33792.0   1000000   \n",
              "\n",
              "   Type  Price Content Rating        Genres Last Updated Current Ver  \\\n",
              "0  Free    0.0       Everyone  Art & Design   2017-09-20       2.9.2   \n",
              "1  Free    0.0       Everyone  Art & Design   2017-09-20       2.9.2   \n",
              "2  Free    0.0       Everyone  Art & Design   2017-09-20       2.9.2   \n",
              "3  Free    0.0       Everyone  Art & Design   2017-09-20       2.9.2   \n",
              "4  Free    0.0       Everyone  Art & Design   2017-09-20       2.9.2   \n",
              "\n",
              "  Android Ver  LastUpdated_Day  LastUpdated_Month  LastUpdated_Year Sentiment  \\\n",
              "0  3.0 and up               20                  9              2017  Positive   \n",
              "1  3.0 and up               20                  9              2017   Neutral   \n",
              "2  3.0 and up               20                  9              2017  Positive   \n",
              "3  3.0 and up               20                  9              2017  Positive   \n",
              "4  3.0 and up               20                  9              2017  Negative   \n",
              "\n",
              "   Sentiment_Polarity  Sentiment_Subjectivity  \n",
              "0        2.166667e-01                0.573810  \n",
              "1        0.000000e+00                0.000000  \n",
              "2        3.000000e-01                0.600000  \n",
              "3        2.775558e-17                0.579167  \n",
              "4       -3.472222e-02                0.581944  "
            ]
          },
          "execution_count": 85,
          "metadata": {},
          "output_type": "execute_result"
        }
      ],
      "source": [
        "#merge both database for more analysis\n",
        "\n",
        "merged_df = play_store_data2.merge(user_review_data3, on=\"App\")\n",
        "merged_df.head()"
      ]
    },
    {
      "cell_type": "code",
      "execution_count": null,
      "metadata": {
        "colab": {
          "background_save": true
        },
        "id": "sCawINF74TiJ",
        "outputId": "b4afec61-96fd-4a56-c368-18ce923fce70"
      },
      "outputs": [
        {
          "data": {
            "text/html": [
              "\n",
              "  <div id=\"df-d7c05d59-dfeb-4645-83d6-858a5af779c7\">\n",
              "    <div class=\"colab-df-container\">\n",
              "      <div>\n",
              "<style scoped>\n",
              "    .dataframe tbody tr th:only-of-type {\n",
              "        vertical-align: middle;\n",
              "    }\n",
              "\n",
              "    .dataframe tbody tr th {\n",
              "        vertical-align: top;\n",
              "    }\n",
              "\n",
              "    .dataframe thead th {\n",
              "        text-align: right;\n",
              "    }\n",
              "</style>\n",
              "<table border=\"1\" class=\"dataframe\">\n",
              "  <thead>\n",
              "    <tr style=\"text-align: right;\">\n",
              "      <th></th>\n",
              "      <th>App</th>\n",
              "      <th>Category</th>\n",
              "      <th>Rating</th>\n",
              "      <th>Reviews</th>\n",
              "      <th>Size</th>\n",
              "      <th>Installs</th>\n",
              "      <th>Type</th>\n",
              "      <th>Price</th>\n",
              "      <th>Content Rating</th>\n",
              "      <th>Genres</th>\n",
              "      <th>Last Updated</th>\n",
              "      <th>Current Ver</th>\n",
              "      <th>Android Ver</th>\n",
              "      <th>LastUpdated_Day</th>\n",
              "      <th>LastUpdated_Month</th>\n",
              "      <th>LastUpdated_Year</th>\n",
              "      <th>Sentiment</th>\n",
              "      <th>Sentiment_Polarity</th>\n",
              "      <th>Sentiment_Subjectivity</th>\n",
              "    </tr>\n",
              "  </thead>\n",
              "  <tbody>\n",
              "    <tr>\n",
              "      <th>16458</th>\n",
              "      <td>Hideman VPN</td>\n",
              "      <td>TOOLS</td>\n",
              "      <td>4.1</td>\n",
              "      <td>88675</td>\n",
              "      <td>9830.0</td>\n",
              "      <td>5000000</td>\n",
              "      <td>Free</td>\n",
              "      <td>0.00</td>\n",
              "      <td>Everyone</td>\n",
              "      <td>Tools</td>\n",
              "      <td>2018-07-24</td>\n",
              "      <td>6.0.1</td>\n",
              "      <td>4.0 and up</td>\n",
              "      <td>24</td>\n",
              "      <td>7</td>\n",
              "      <td>2018</td>\n",
              "      <td>Positive</td>\n",
              "      <td>1.000000e+00</td>\n",
              "      <td>0.780000</td>\n",
              "    </tr>\n",
              "    <tr>\n",
              "      <th>22912</th>\n",
              "      <td>365Scores - Live Scores</td>\n",
              "      <td>SPORTS</td>\n",
              "      <td>4.6</td>\n",
              "      <td>666246</td>\n",
              "      <td>25600.0</td>\n",
              "      <td>10000000</td>\n",
              "      <td>Free</td>\n",
              "      <td>0.00</td>\n",
              "      <td>Everyone</td>\n",
              "      <td>Sports</td>\n",
              "      <td>2018-07-29</td>\n",
              "      <td>5.5.9</td>\n",
              "      <td>4.1 and up</td>\n",
              "      <td>29</td>\n",
              "      <td>7</td>\n",
              "      <td>2018</td>\n",
              "      <td>Positive</td>\n",
              "      <td>1.000000e+00</td>\n",
              "      <td>1.000000</td>\n",
              "    </tr>\n",
              "    <tr>\n",
              "      <th>668</th>\n",
              "      <td>Filters for Selfie</td>\n",
              "      <td>BEAUTY</td>\n",
              "      <td>4.3</td>\n",
              "      <td>8572</td>\n",
              "      <td>25600.0</td>\n",
              "      <td>1000000</td>\n",
              "      <td>Free</td>\n",
              "      <td>0.00</td>\n",
              "      <td>Everyone</td>\n",
              "      <td>Beauty</td>\n",
              "      <td>2018-05-10</td>\n",
              "      <td>1.1.0</td>\n",
              "      <td>4.0 and up</td>\n",
              "      <td>10</td>\n",
              "      <td>5</td>\n",
              "      <td>2018</td>\n",
              "      <td>Positive</td>\n",
              "      <td>1.000000e+00</td>\n",
              "      <td>1.000000</td>\n",
              "    </tr>\n",
              "    <tr>\n",
              "      <th>10966</th>\n",
              "      <td>ABC Kids - Tracing &amp; Phonics</td>\n",
              "      <td>FAMILY</td>\n",
              "      <td>4.5</td>\n",
              "      <td>36606</td>\n",
              "      <td>12288.0</td>\n",
              "      <td>10000000</td>\n",
              "      <td>Free</td>\n",
              "      <td>0.00</td>\n",
              "      <td>Everyone</td>\n",
              "      <td>Educational;Education</td>\n",
              "      <td>2018-06-22</td>\n",
              "      <td>Varies with device</td>\n",
              "      <td>4.0 and up</td>\n",
              "      <td>22</td>\n",
              "      <td>6</td>\n",
              "      <td>2018</td>\n",
              "      <td>Positive</td>\n",
              "      <td>1.000000e+00</td>\n",
              "      <td>0.300000</td>\n",
              "    </tr>\n",
              "    <tr>\n",
              "      <th>16198</th>\n",
              "      <td>Fraction Calculator Plus Free</td>\n",
              "      <td>TOOLS</td>\n",
              "      <td>4.5</td>\n",
              "      <td>148506</td>\n",
              "      <td>11264.0</td>\n",
              "      <td>5000000</td>\n",
              "      <td>Free</td>\n",
              "      <td>0.00</td>\n",
              "      <td>Everyone</td>\n",
              "      <td>Tools</td>\n",
              "      <td>2018-07-15</td>\n",
              "      <td>Varies with device</td>\n",
              "      <td>Varies with device</td>\n",
              "      <td>15</td>\n",
              "      <td>7</td>\n",
              "      <td>2018</td>\n",
              "      <td>Positive</td>\n",
              "      <td>1.000000e+00</td>\n",
              "      <td>0.650000</td>\n",
              "    </tr>\n",
              "    <tr>\n",
              "      <th>...</th>\n",
              "      <td>...</td>\n",
              "      <td>...</td>\n",
              "      <td>...</td>\n",
              "      <td>...</td>\n",
              "      <td>...</td>\n",
              "      <td>...</td>\n",
              "      <td>...</td>\n",
              "      <td>...</td>\n",
              "      <td>...</td>\n",
              "      <td>...</td>\n",
              "      <td>...</td>\n",
              "      <td>...</td>\n",
              "      <td>...</td>\n",
              "      <td>...</td>\n",
              "      <td>...</td>\n",
              "      <td>...</td>\n",
              "      <td>...</td>\n",
              "      <td>...</td>\n",
              "      <td>...</td>\n",
              "    </tr>\n",
              "    <tr>\n",
              "      <th>8873</th>\n",
              "      <td>Farming Simulator 18</td>\n",
              "      <td>GAME</td>\n",
              "      <td>4.5</td>\n",
              "      <td>18125</td>\n",
              "      <td>15360.0</td>\n",
              "      <td>100000</td>\n",
              "      <td>Paid</td>\n",
              "      <td>4.99</td>\n",
              "      <td>Everyone</td>\n",
              "      <td>Simulation;Education</td>\n",
              "      <td>2018-07-09</td>\n",
              "      <td>Varies with device</td>\n",
              "      <td>4.4 and up</td>\n",
              "      <td>9</td>\n",
              "      <td>7</td>\n",
              "      <td>2018</td>\n",
              "      <td>Positive</td>\n",
              "      <td>1.387779e-17</td>\n",
              "      <td>0.766667</td>\n",
              "    </tr>\n",
              "    <tr>\n",
              "      <th>25399</th>\n",
              "      <td>All Social Networks</td>\n",
              "      <td>SOCIAL</td>\n",
              "      <td>4.2</td>\n",
              "      <td>22650</td>\n",
              "      <td>1536.0</td>\n",
              "      <td>1000000</td>\n",
              "      <td>Free</td>\n",
              "      <td>0.00</td>\n",
              "      <td>Everyone</td>\n",
              "      <td>Social</td>\n",
              "      <td>2018-05-21</td>\n",
              "      <td>2.4.12</td>\n",
              "      <td>4.0 and up</td>\n",
              "      <td>21</td>\n",
              "      <td>5</td>\n",
              "      <td>2018</td>\n",
              "      <td>Positive</td>\n",
              "      <td>1.387779e-17</td>\n",
              "      <td>0.594792</td>\n",
              "    </tr>\n",
              "    <tr>\n",
              "      <th>14739</th>\n",
              "      <td>Amtrak</td>\n",
              "      <td>TRAVEL_AND_LOCAL</td>\n",
              "      <td>3.7</td>\n",
              "      <td>16815</td>\n",
              "      <td>28672.0</td>\n",
              "      <td>1000000</td>\n",
              "      <td>Free</td>\n",
              "      <td>0.00</td>\n",
              "      <td>Everyone</td>\n",
              "      <td>Travel &amp; Local</td>\n",
              "      <td>2018-07-15</td>\n",
              "      <td>3.1.3</td>\n",
              "      <td>5.0 and up</td>\n",
              "      <td>15</td>\n",
              "      <td>7</td>\n",
              "      <td>2018</td>\n",
              "      <td>Positive</td>\n",
              "      <td>9.251859e-18</td>\n",
              "      <td>0.500000</td>\n",
              "    </tr>\n",
              "    <tr>\n",
              "      <th>12764</th>\n",
              "      <td>Blogger</td>\n",
              "      <td>SOCIAL</td>\n",
              "      <td>3.7</td>\n",
              "      <td>138026</td>\n",
              "      <td>2764.0</td>\n",
              "      <td>5000000</td>\n",
              "      <td>Free</td>\n",
              "      <td>0.00</td>\n",
              "      <td>Mature 17</td>\n",
              "      <td>Social</td>\n",
              "      <td>2016-02-29</td>\n",
              "      <td>2.1.3</td>\n",
              "      <td>2.1 and up</td>\n",
              "      <td>29</td>\n",
              "      <td>2</td>\n",
              "      <td>2016</td>\n",
              "      <td>Positive</td>\n",
              "      <td>6.938894e-18</td>\n",
              "      <td>0.612500</td>\n",
              "    </tr>\n",
              "    <tr>\n",
              "      <th>3343</th>\n",
              "      <td>Babbel – Learn Spanish</td>\n",
              "      <td>EDUCATION</td>\n",
              "      <td>4.4</td>\n",
              "      <td>54798</td>\n",
              "      <td>11264.0</td>\n",
              "      <td>1000000</td>\n",
              "      <td>Free</td>\n",
              "      <td>0.00</td>\n",
              "      <td>Everyone</td>\n",
              "      <td>Education</td>\n",
              "      <td>2018-07-30</td>\n",
              "      <td>20.7.2</td>\n",
              "      <td>4.4 and up</td>\n",
              "      <td>30</td>\n",
              "      <td>7</td>\n",
              "      <td>2018</td>\n",
              "      <td>Positive</td>\n",
              "      <td>5.551115e-18</td>\n",
              "      <td>0.565000</td>\n",
              "    </tr>\n",
              "  </tbody>\n",
              "</table>\n",
              "<p>16480 rows × 19 columns</p>\n",
              "</div>\n",
              "      <button class=\"colab-df-convert\" onclick=\"convertToInteractive('df-d7c05d59-dfeb-4645-83d6-858a5af779c7')\"\n",
              "              title=\"Convert this dataframe to an interactive table.\"\n",
              "              style=\"display:none;\">\n",
              "        \n",
              "  <svg xmlns=\"http://www.w3.org/2000/svg\" height=\"24px\"viewBox=\"0 0 24 24\"\n",
              "       width=\"24px\">\n",
              "    <path d=\"M0 0h24v24H0V0z\" fill=\"none\"/>\n",
              "    <path d=\"M18.56 5.44l.94 2.06.94-2.06 2.06-.94-2.06-.94-.94-2.06-.94 2.06-2.06.94zm-11 1L8.5 8.5l.94-2.06 2.06-.94-2.06-.94L8.5 2.5l-.94 2.06-2.06.94zm10 10l.94 2.06.94-2.06 2.06-.94-2.06-.94-.94-2.06-.94 2.06-2.06.94z\"/><path d=\"M17.41 7.96l-1.37-1.37c-.4-.4-.92-.59-1.43-.59-.52 0-1.04.2-1.43.59L10.3 9.45l-7.72 7.72c-.78.78-.78 2.05 0 2.83L4 21.41c.39.39.9.59 1.41.59.51 0 1.02-.2 1.41-.59l7.78-7.78 2.81-2.81c.8-.78.8-2.07 0-2.86zM5.41 20L4 18.59l7.72-7.72 1.47 1.35L5.41 20z\"/>\n",
              "  </svg>\n",
              "      </button>\n",
              "      \n",
              "  <style>\n",
              "    .colab-df-container {\n",
              "      display:flex;\n",
              "      flex-wrap:wrap;\n",
              "      gap: 12px;\n",
              "    }\n",
              "\n",
              "    .colab-df-convert {\n",
              "      background-color: #E8F0FE;\n",
              "      border: none;\n",
              "      border-radius: 50%;\n",
              "      cursor: pointer;\n",
              "      display: none;\n",
              "      fill: #1967D2;\n",
              "      height: 32px;\n",
              "      padding: 0 0 0 0;\n",
              "      width: 32px;\n",
              "    }\n",
              "\n",
              "    .colab-df-convert:hover {\n",
              "      background-color: #E2EBFA;\n",
              "      box-shadow: 0px 1px 2px rgba(60, 64, 67, 0.3), 0px 1px 3px 1px rgba(60, 64, 67, 0.15);\n",
              "      fill: #174EA6;\n",
              "    }\n",
              "\n",
              "    [theme=dark] .colab-df-convert {\n",
              "      background-color: #3B4455;\n",
              "      fill: #D2E3FC;\n",
              "    }\n",
              "\n",
              "    [theme=dark] .colab-df-convert:hover {\n",
              "      background-color: #434B5C;\n",
              "      box-shadow: 0px 1px 3px 1px rgba(0, 0, 0, 0.15);\n",
              "      filter: drop-shadow(0px 1px 2px rgba(0, 0, 0, 0.3));\n",
              "      fill: #FFFFFF;\n",
              "    }\n",
              "  </style>\n",
              "\n",
              "      <script>\n",
              "        const buttonEl =\n",
              "          document.querySelector('#df-d7c05d59-dfeb-4645-83d6-858a5af779c7 button.colab-df-convert');\n",
              "        buttonEl.style.display =\n",
              "          google.colab.kernel.accessAllowed ? 'block' : 'none';\n",
              "\n",
              "        async function convertToInteractive(key) {\n",
              "          const element = document.querySelector('#df-d7c05d59-dfeb-4645-83d6-858a5af779c7');\n",
              "          const dataTable =\n",
              "            await google.colab.kernel.invokeFunction('convertToInteractive',\n",
              "                                                     [key], {});\n",
              "          if (!dataTable) return;\n",
              "\n",
              "          const docLinkHtml = 'Like what you see? Visit the ' +\n",
              "            '<a target=\"_blank\" href=https://colab.research.google.com/notebooks/data_table.ipynb>data table notebook</a>'\n",
              "            + ' to learn more about interactive tables.';\n",
              "          element.innerHTML = '';\n",
              "          dataTable['output_type'] = 'display_data';\n",
              "          await google.colab.output.renderOutput(dataTable, element);\n",
              "          const docLink = document.createElement('div');\n",
              "          docLink.innerHTML = docLinkHtml;\n",
              "          element.appendChild(docLink);\n",
              "        }\n",
              "      </script>\n",
              "    </div>\n",
              "  </div>\n",
              "  "
            ],
            "text/plain": [
              "                                 App          Category  Rating  Reviews  \\\n",
              "16458                    Hideman VPN             TOOLS     4.1    88675   \n",
              "22912        365Scores - Live Scores            SPORTS     4.6   666246   \n",
              "668               Filters for Selfie            BEAUTY     4.3     8572   \n",
              "10966   ABC Kids - Tracing & Phonics            FAMILY     4.5    36606   \n",
              "16198  Fraction Calculator Plus Free             TOOLS     4.5   148506   \n",
              "...                              ...               ...     ...      ...   \n",
              "8873            Farming Simulator 18              GAME     4.5    18125   \n",
              "25399            All Social Networks            SOCIAL     4.2    22650   \n",
              "14739                         Amtrak  TRAVEL_AND_LOCAL     3.7    16815   \n",
              "12764                        Blogger            SOCIAL     3.7   138026   \n",
              "3343          Babbel – Learn Spanish         EDUCATION     4.4    54798   \n",
              "\n",
              "          Size  Installs  Type  Price Content Rating                 Genres  \\\n",
              "16458   9830.0   5000000  Free   0.00       Everyone                  Tools   \n",
              "22912  25600.0  10000000  Free   0.00       Everyone                 Sports   \n",
              "668    25600.0   1000000  Free   0.00       Everyone                 Beauty   \n",
              "10966  12288.0  10000000  Free   0.00       Everyone  Educational;Education   \n",
              "16198  11264.0   5000000  Free   0.00       Everyone                  Tools   \n",
              "...        ...       ...   ...    ...            ...                    ...   \n",
              "8873   15360.0    100000  Paid   4.99       Everyone   Simulation;Education   \n",
              "25399   1536.0   1000000  Free   0.00       Everyone                 Social   \n",
              "14739  28672.0   1000000  Free   0.00       Everyone         Travel & Local   \n",
              "12764   2764.0   5000000  Free   0.00      Mature 17                 Social   \n",
              "3343   11264.0   1000000  Free   0.00       Everyone              Education   \n",
              "\n",
              "      Last Updated         Current Ver         Android Ver  LastUpdated_Day  \\\n",
              "16458   2018-07-24               6.0.1          4.0 and up               24   \n",
              "22912   2018-07-29               5.5.9          4.1 and up               29   \n",
              "668     2018-05-10               1.1.0          4.0 and up               10   \n",
              "10966   2018-06-22  Varies with device          4.0 and up               22   \n",
              "16198   2018-07-15  Varies with device  Varies with device               15   \n",
              "...            ...                 ...                 ...              ...   \n",
              "8873    2018-07-09  Varies with device          4.4 and up                9   \n",
              "25399   2018-05-21              2.4.12          4.0 and up               21   \n",
              "14739   2018-07-15               3.1.3          5.0 and up               15   \n",
              "12764   2016-02-29               2.1.3          2.1 and up               29   \n",
              "3343    2018-07-30              20.7.2          4.4 and up               30   \n",
              "\n",
              "       LastUpdated_Month  LastUpdated_Year Sentiment  Sentiment_Polarity  \\\n",
              "16458                  7              2018  Positive        1.000000e+00   \n",
              "22912                  7              2018  Positive        1.000000e+00   \n",
              "668                    5              2018  Positive        1.000000e+00   \n",
              "10966                  6              2018  Positive        1.000000e+00   \n",
              "16198                  7              2018  Positive        1.000000e+00   \n",
              "...                  ...               ...       ...                 ...   \n",
              "8873                   7              2018  Positive        1.387779e-17   \n",
              "25399                  5              2018  Positive        1.387779e-17   \n",
              "14739                  7              2018  Positive        9.251859e-18   \n",
              "12764                  2              2016  Positive        6.938894e-18   \n",
              "3343                   7              2018  Positive        5.551115e-18   \n",
              "\n",
              "       Sentiment_Subjectivity  \n",
              "16458                0.780000  \n",
              "22912                1.000000  \n",
              "668                  1.000000  \n",
              "10966                0.300000  \n",
              "16198                0.650000  \n",
              "...                       ...  \n",
              "8873                 0.766667  \n",
              "25399                0.594792  \n",
              "14739                0.500000  \n",
              "12764                0.612500  \n",
              "3343                 0.565000  \n",
              "\n",
              "[16480 rows x 19 columns]"
            ]
          },
          "execution_count": 86,
          "metadata": {},
          "output_type": "execute_result"
        }
      ],
      "source": [
        "e=merged_df[merged_df[\"Sentiment\"]==\"Positive\"].sort_values(by='Sentiment_Polarity', ascending=False)\n",
        "e"
      ]
    },
    {
      "cell_type": "code",
      "execution_count": null,
      "metadata": {
        "id": "Et9FdVlC7J6a"
      },
      "outputs": [],
      "source": [
        "sns.countplot(x=e[\"Sentiment_Polarity\"],data=e)"
      ]
    },
    {
      "cell_type": "code",
      "execution_count": null,
      "metadata": {
        "id": "zvpHRIzM5nFy"
      },
      "outputs": [],
      "source": [
        "#for numerical data\n",
        "num_df_columns1=[columns for columns in merged_df.columns if merged_df[columns].dtype!='O']\n",
        "num_df2=merged_df[num_df_columns1].drop(columns=['LastUpdated_Day','LastUpdated_Month',\"LastUpdated_Year\"])\n",
        "num_df2"
      ]
    },
    {
      "cell_type": "code",
      "execution_count": null,
      "metadata": {
        "id": "tdv8Znk9HSwW"
      },
      "outputs": [],
      "source": [
        "merged_df.info()"
      ]
    },
    {
      "cell_type": "markdown",
      "metadata": {
        "id": "J5QBp51F2QD_"
      },
      "source": [
        "**Sentiment Data Across all Reviews**\n",
        "--"
      ]
    },
    {
      "cell_type": "code",
      "execution_count": null,
      "metadata": {
        "id": "12kyRxkh2PVT"
      },
      "outputs": [],
      "source": [
        "plt.figure(figsize=(15,10))\n",
        "pd.value_counts(user_review_data3[\"Sentiment\"]).plot(kind = 'pie',  autopct='%1.2f%%',shadow=True, explode=[0, 0.05, 0.05], startangle=45 ,colors=colors)\n",
        "plt.title(\"Sentiment Data\",size=20)\n",
        "plt.show()"
      ]
    },
    {
      "cell_type": "markdown",
      "metadata": {
        "id": "j79TUVmD2gBz"
      },
      "source": [
        "**Trend of App Price across popular categories**\n",
        "--"
      ]
    },
    {
      "cell_type": "code",
      "execution_count": null,
      "metadata": {
        "id": "EiM6mlk92AqV"
      },
      "outputs": [],
      "source": [
        "plt.figure(figsize=(15,10))\n",
        "\n",
        "# Select a few popular app categories\n",
        "popular_app_cats = play_store_data2[play_store_data2.Category.isin(['GAME', 'FAMILY', 'PHOTOGRAPHY', 'MEDICAL', 'TOOLS', 'FINANCE','LIFESTYLE','BUSINESS'])]\n",
        "\n",
        "# Examine the price trend by plotting Price vs Category\n",
        "ax = sns.stripplot(x = popular_app_cats['Price'], y = popular_app_cats['Category'], jitter=True, linewidth=1 , size=8)\n",
        "ax.set_title('Trend of App Price across popular categories',size=20)\n",
        "plt.show()"
      ]
    },
    {
      "cell_type": "markdown",
      "metadata": {
        "id": "Z1Ro1CkV3L0c"
      },
      "source": [
        "**Age vs Sentiment: each age with its Positive, Negative, Neutral Sentiment**\n",
        "--"
      ]
    },
    {
      "cell_type": "code",
      "execution_count": null,
      "metadata": {
        "id": "nNIoG5Hs27p2"
      },
      "outputs": [],
      "source": [
        "plt.figure(figsize=(15,10))\n",
        "ax = sns.countplot(merged_df[\"Content Rating\"],hue=merged_df['Sentiment'],palette=\"Set3\");\n",
        "plt.title(\"Age vs Sentiment\",size=20)\n",
        "\n",
        "for p in ax.patches:\n",
        "    ax.annotate(p.get_height(),(p.get_x() + p.get_width()/2,p.get_height()),ha='center',size= 12)\n",
        "\n",
        "plt.show()"
      ]
    },
    {
      "cell_type": "markdown",
      "metadata": {
        "id": "TJ31H1Mv3eUA"
      },
      "source": [
        "**Feedback in Popular app category**\n",
        "--"
      ]
    },
    {
      "cell_type": "code",
      "execution_count": null,
      "metadata": {
        "id": "bxjd6Kdz3Z0Y"
      },
      "outputs": [],
      "source": [
        "plt.figure(figsize=(15,10))\n",
        "ax = sns.countplot(popular_app_cats['Category'],hue=merged_df['Sentiment']);\n",
        "ax.set_title(\"Feedback in Popular app catagory \\n \\n Category v/s Sentiment \",size=20)\n",
        "\n",
        "for p in ax.patches:\n",
        "    ax.annotate(p.get_height(),(p.get_x() + p.get_width()/2,p.get_height()),ha='center',size= 12)\n",
        "    \n",
        "plt.show()"
      ]
    },
    {
      "cell_type": "markdown",
      "metadata": {
        "id": "N2J1uTQP3qhZ"
      },
      "source": [
        "**Popular Category vs Type**\n",
        "--"
      ]
    },
    {
      "cell_type": "code",
      "execution_count": null,
      "metadata": {
        "id": "K7KzDd-N3mLM"
      },
      "outputs": [],
      "source": [
        "plt.figure(figsize=(15,10))\n",
        "ax = sns.countplot(popular_app_cats['Category'],hue=merged_df['Type']);\n",
        "plt.title(\"Popular Category vs Type\",size=20)\n",
        "\n",
        "for p in ax.patches:\n",
        "    ax.annotate(p.get_height(),(p.get_x() + p.get_width()/2,p.get_height()),ha='center',size= 12)\n",
        "    \n",
        "plt.show()"
      ]
    },
    {
      "cell_type": "markdown",
      "metadata": {
        "id": "yrSdIiPR34yC"
      },
      "source": [
        "**Sentiment_Polarity relation with paid and Free App**\n",
        "--"
      ]
    },
    {
      "cell_type": "code",
      "execution_count": null,
      "metadata": {
        "id": "vPx3F_LL30RI"
      },
      "outputs": [],
      "source": [
        "plt.figure(figsize=(15,10))\n",
        "sns.violinplot(y = merged_df[\"Sentiment_Polarity\"],x = merged_df[\"Type\"],palette=\"Blues\" )\n",
        "plt.title(\"Sentiment Polarity\",fontsize=20)\n",
        "plt.show()"
      ]
    },
    {
      "cell_type": "markdown",
      "metadata": {
        "id": "9djvooj44Et7"
      },
      "source": [
        "**Content Rating Relation with Sentiment Polarity**\n",
        "--"
      ]
    },
    {
      "cell_type": "code",
      "execution_count": null,
      "metadata": {
        "id": "YIxg_k8-4ASV"
      },
      "outputs": [],
      "source": [
        "plt.figure(figsize=(15,10))\n",
        "ax = sns.stripplot(y = merged_df[\"Content Rating\"], x = merged_df[\"Sentiment_Polarity\"], data=merged_df, color=\"#4B0751\", jitter=0.2, size=2.5)\n",
        "\n",
        "plt.show()\n"
      ]
    },
    {
      "cell_type": "markdown",
      "metadata": {
        "id": "tjktaPkc4SdK"
      },
      "source": [
        "**Categories Relation with Sentiment_Subjectivity**\n",
        "--"
      ]
    },
    {
      "cell_type": "markdown",
      "metadata": {
        "id": "2yleMO3uYS43"
      },
      "source": [
        ""
      ]
    },
    {
      "cell_type": "code",
      "execution_count": null,
      "metadata": {
        "id": "CHU62wURYTM6"
      },
      "outputs": [],
      "source": [
        "data = sns.pairplot(num_df, markers='+')\n",
        "plt.show(data)"
      ]
    },
    {
      "cell_type": "code",
      "execution_count": null,
      "metadata": {
        "id": "BbY5SGGD4MRe"
      },
      "outputs": [],
      "source": [
        "plt.figure(figsize=(15,10))\n",
        "\n",
        "ax = sns.stripplot(y = popular_app_cats['Category'], x = merged_df[\"Sentiment_Subjectivity\"], data=merged_df, color=\"#4B0751\", jitter=0.2, size=2.5)\n",
        "\n",
        "plt.show()\n"
      ]
    },
    {
      "cell_type": "markdown",
      "metadata": {
        "id": "NBJOnhFs4afT"
      },
      "source": [
        "**Pair Plot For Understanding Relations Between Different Columns**\n",
        "--"
      ]
    },
    {
      "cell_type": "code",
      "execution_count": null,
      "metadata": {
        "id": "q6r_DkWY4XXU"
      },
      "outputs": [],
      "source": [
        "# data = sns.pairplot(num_df, markers='+')\n",
        "# plt.show(data)"
      ]
    },
    {
      "cell_type": "markdown",
      "metadata": {
        "id": "02VKEBVW4q2h"
      },
      "source": [
        "**Summary-2**: Following are main conclusion:\n",
        "--\n",
        "\n",
        "### A)\tInstall vs Rating 📈  --\tapps with Rating 4 and above have more installation than any other apps with lower rating!\n",
        "\n",
        "### B)\tSize vs Rating 📈 \t-- Mostly larger size app's are rated and near 4 rate!"
      ]
    },
    {
      "cell_type": "markdown",
      "metadata": {
        "id": "EUytM3g1pbHO"
      },
      "source": [
        "**Relation between all the columns**\n",
        "--"
      ]
    },
    {
      "cell_type": "code",
      "execution_count": null,
      "metadata": {
        "id": "biHr6iAb4hJ-"
      },
      "outputs": [],
      "source": [
        "plt.figure(figsize=(15,10))\n",
        "sns.heatmap(num_df2.corr(),annot=True,cmap='Greens')\n",
        "plt.title(\"Correlation on merge data\",fontsize=25)\n",
        "plt.show()"
      ]
    },
    {
      "cell_type": "code",
      "execution_count": null,
      "metadata": {
        "id": "r19UhKRId6sD"
      },
      "outputs": [],
      "source": [
        ""
      ]
    },
    {
      "cell_type": "code",
      "execution_count": null,
      "metadata": {
        "id": "VIYH9m_X6CBt"
      },
      "outputs": [],
      "source": [
        "#revenue=installs*price\n",
        "play_store_data2[\"Price\"]"
      ]
    },
    {
      "cell_type": "code",
      "execution_count": null,
      "metadata": {
        "id": "sLCW9JHQClGn"
      },
      "outputs": [],
      "source": [
        "list1=[]\n",
        "for i,j in zip(play_store_data2[\"Installs\"],play_store_data2[\"Price\"]):\n",
        "  d=i*j\n",
        "  list1.append(d)\n",
        "\n",
        "print(list1)  "
      ]
    },
    {
      "cell_type": "code",
      "execution_count": null,
      "metadata": {
        "id": "NabKn4KnFU-L"
      },
      "outputs": [],
      "source": [
        "Revenue=pd.DataFrame(list1,columns=[\"Revenue\"])\n",
        "Revenue.reset_index()"
      ]
    },
    {
      "cell_type": "code",
      "execution_count": null,
      "metadata": {
        "id": "rshypvmcWhd5"
      },
      "outputs": [],
      "source": [
        "play_store_data2=play_store_data2.reset_index()"
      ]
    },
    {
      "cell_type": "code",
      "execution_count": null,
      "metadata": {
        "id": "yEA427cxEq3k"
      },
      "outputs": [],
      "source": [
        "df4=pd.concat([play_store_data2,Revenue],axis=1)\n",
        "df4"
      ]
    },
    {
      "cell_type": "code",
      "execution_count": null,
      "metadata": {
        "id": "M9ayNePJY6xQ"
      },
      "outputs": [],
      "source": [
        "df5=df4.sort_values(by=\"Revenue\",ascending=False)\n",
        "df5"
      ]
    },
    {
      "cell_type": "code",
      "execution_count": null,
      "metadata": {
        "id": "0kovloLCFC6X"
      },
      "outputs": [],
      "source": [
        "fdf5=df5[[\"App\",\"Revenue\",\"Category\"]].reset_index().drop(columns=[\"index\"])\n",
        "fdf5"
      ]
    },
    {
      "cell_type": "code",
      "execution_count": null,
      "metadata": {
        "id": "RVy4WQMSuTye"
      },
      "outputs": [],
      "source": [
        "f=df5.groupby(\"Category\",as_index=False)[\"Revenue\"].sum()\n",
        "g=pd.DataFrame(f)\n",
        "p=g.sort_values(by=\"Revenue\",ascending=False).head(15)\n",
        "p"
      ]
    },
    {
      "cell_type": "code",
      "execution_count": null,
      "metadata": {
        "id": "MeVMoytGXZ1j"
      },
      "outputs": [],
      "source": [
        "plt.figure(figsize=(15,10))\n",
        "sns.barplot(x=p[\"Revenue\"],y=p[\"Category\"],data=p,palette=\"Set3\")\n",
        "plt.title(\"Revenue generated by Category\",fontsize=20)\n",
        "plt.show()"
      ]
    },
    {
      "cell_type": "code",
      "execution_count": null,
      "metadata": {
        "id": "FoMo9swVXeRo"
      },
      "outputs": [],
      "source": [
        "sns.countplot(fdf5[\"Revenue\"].head(10))"
      ]
    },
    {
      "cell_type": "code",
      "execution_count": null,
      "metadata": {
        "id": "B9YZfJ1JXzgj"
      },
      "outputs": [],
      "source": [
        ""
      ]
    }
  ],
  "metadata": {
    "colab": {
      "collapsed_sections": [],
      "name": "Copy of playstore Reviews",
      "provenance": [],
      "mount_file_id": "1QxZ1S2s3fYm6KXXaBbOEwOKoGhio6pzj",
      "authorship_tag": "ABX9TyO9SkM/HVk1lKJtRkNGZV+M",
      "include_colab_link": true
    },
    "kernelspec": {
      "display_name": "Python 3",
      "name": "python3"
    },
    "language_info": {
      "name": "python"
    }
  },
  "nbformat": 4,
  "nbformat_minor": 0
}